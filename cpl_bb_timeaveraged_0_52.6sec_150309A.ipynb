{
 "cells": [
  {
   "cell_type": "code",
   "execution_count": 1,
   "metadata": {},
   "outputs": [],
   "source": [
    "import numpy as np\n",
    "from pylab import *\n",
    "from astropy.io import fits\n",
    "from scipy import stats\n",
    "from astropy import units as u\n",
    "import matplotlib\n",
    "import matplotlib.pyplot as plt\n",
    "from astropy.io import ascii\n",
    "from matplotlib.ticker import FixedLocator\n",
    "from astropy.stats import bayesian_blocks"
   ]
  },
  {
   "cell_type": "code",
   "execution_count": 2,
   "metadata": {},
   "outputs": [],
   "source": [
    "import numpy as np\n",
    "from astropy.io import ascii\n",
    "from astropy import units\n",
    "import matplotlib\n",
    "import matplotlib.pyplot as plt\n",
    "from scipy.optimize import curve_fit\n",
    "\n",
    "font = {'family'         : 'serif',\n",
    "\t'weight'         : 'bold',\n",
    "\t'size'\t         : 16}\n",
    "matplotlib.rc('font',**font)\n",
    "matplotlib.rc('grid',linewidth=1)\n",
    "matplotlib.rc('xtick.major',width=2)\n",
    "matplotlib.rc('xtick.major',size=7)\n",
    "matplotlib.rc('xtick.minor',width=2)\n",
    "matplotlib.rc('xtick.minor',size=4)\n",
    "matplotlib.rc('ytick.major',width=2)\n",
    "matplotlib.rc('ytick.major',size=7)\n",
    "matplotlib.rc('ytick.minor',width=2)\n",
    "matplotlib.rc('ytick.minor',size=4)\n",
    "plt.style.use('classic')\n",
    "#fig,ax=plt.subplots()\n",
    "#ax.minorticks_on()\n",
    "from matplotlib import gridspec\n",
    "matplotlib.rc('font', family='serif', size='16',weight='bold')\n",
    "matplotlib.rc('text', usetex=True)\n",
    "matplotlib.rcParams['text.latex.preamble'] = [r'\\boldmath']"
   ]
  },
  {
   "cell_type": "code",
   "execution_count": null,
   "metadata": {},
   "outputs": [],
   "source": [
    "import numpy as np\n",
    "from astropy.io import ascii\n",
    "from astropy import units\n",
    "import matplotlib\n",
    "import matplotlib.pyplot as plt\n",
    "from scipy.optimize import curve_fit\n",
    "\n",
    "font = {'family'         : 'serif',\n",
    "\t'weight'         : 'bold',\n",
    "\t'size'\t         : 16}\n",
    "matplotlib.rc('font',**font)\n",
    "matplotlib.rc('grid',linewidth=1)\n",
    "matplotlib.rc('xtick.major',width=2)\n",
    "matplotlib.rc('xtick.major',size=7)\n",
    "matplotlib.rc('xtick.minor',width=2)\n",
    "matplotlib.rc('xtick.minor',size=4)\n",
    "matplotlib.rc('ytick.major',width=2)\n",
    "matplotlib.rc('ytick.major',size=7)\n",
    "matplotlib.rc('ytick.minor',width=2)\n",
    "matplotlib.rc('ytick.minor',size=4)\n",
    "plt.style.use('classic')\n",
    "#fig,ax=plt.subplots()\n",
    "#ax.minorticks_on()\n",
    "from matplotlib import gridspec\n",
    "matplotlib.rc('font', family='serif', size='16',weight='bold')\n",
    "matplotlib.rc('text', usetex=True)\n",
    "matplotlib.rcParams['text.latex.preamble'] = [r'\\boldmath']"
   ]
  }
 ],
 "metadata": {
  "kernelspec": {
   "display_name": "Python 3",
   "language": "python",
   "name": "python3"
  },
  "language_info": {
   "codemirror_mode": {
    "name": "ipython",
    "version": 3
   },
   "file_extension": ".py",
   "mimetype": "text/x-python",
   "name": "python",
   "nbconvert_exporter": "python",
   "pygments_lexer": "ipython3",
   "version": "3.7.3"
  }
 },
 "nbformat": 4,
 "nbformat_minor": 2
}
